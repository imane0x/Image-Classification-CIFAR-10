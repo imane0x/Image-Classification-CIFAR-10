{
 "cells": [
  {
   "cell_type": "code",
   "execution_count": null,
   "id": "924cbc21",
   "metadata": {},
   "outputs": [],
   "source": [
    "\"\"\"\n",
    "This script has the method\n",
    "preprocess_data(X, Y):\n",
    "\"\"\"\n",
    "import tensorflow.keras as K\n",
    "\n",
    "\n",
    "def preprocess_data(X, Y):\n",
    "        \"\"\" This method has the preprocess to train a model \"\"\"\n",
    "        X = X.astype('float32')\n",
    "        X_p = K.applications.vgg16.preprocess_input(X)\n",
    "        Y_p = K.utils.to_categorical(Y, 10)\n",
    "        return(X_p, Y_p)\n",
    "\n",
    "if __name__ == \"__main__\":\n",
    "    (Xt, Yt), (X, Y) = K.datasets.cifar10.load_data()\n",
    "    X_p, Y_p = preprocess_data(Xt, Yt)\n",
    "    Xv_p, Yv_p = preprocess_data(X, Y)\n",
    "    base_model = K.applications.vgg16.VGG16(include_top=False,\n",
    "                                            weights='imagenet',\n",
    "                                            pooling='avg'\n",
    "                                            )\n",
    "\n",
    "    model= K.Sequential()\n",
    "    model.add(K.layers.UpSampling2D())\n",
    "    model.add(base_model)\n",
    "    model.add(K.layers.Flatten())\n",
    "    model.add(K.layers.Dense(512, activation=('relu'))) \n",
    "    model.add(K.layers.Dropout(0.2))\n",
    "    model.add(K.layers.Dense(256, activation=('relu')))\n",
    "    model.add(K.layers.Dropout(0.2))\n",
    "    model.add(K.layers.Dense(10, activation=('softmax')))\n",
    "    callback = []\n",
    "    def decay(epoch):\n",
    "        \"\"\" This method create the alpha\"\"\"\n",
    "        return 0.001 / (1 + 1 * 30)\n",
    "    callback += [K.callbacks.LearningRateScheduler(decay, verbose=1)]\n",
    "    callback += [K.callbacks.ModelCheckpoint('cifar10.h5',\n",
    "                                             save_best_only=True,\n",
    "                                             mode='min'\n",
    "                                             )]\n",
    "    model.compile(optimizer='adam', loss='categorical_crossentropy',\n",
    "                  metrics=['accuracy'])\n",
    "    model.fit(x=X_p, y=Y_p,\n",
    "              batch_size=128,\n",
    "              validation_data=(Xv_p, Yv_p),\n",
    "              epochs=10, shuffle=True,\n",
    "              callbacks=callback,\n",
    "              verbose=1)"
   ]
  }
 ],
 "metadata": {
  "kernelspec": {
   "display_name": "Python 3 (ipykernel)",
   "language": "python",
   "name": "python3"
  },
  "language_info": {
   "codemirror_mode": {
    "name": "ipython",
    "version": 3
   },
   "file_extension": ".py",
   "mimetype": "text/x-python",
   "name": "python",
   "nbconvert_exporter": "python",
   "pygments_lexer": "ipython3",
   "version": "3.10.6"
  }
 },
 "nbformat": 4,
 "nbformat_minor": 5
}
